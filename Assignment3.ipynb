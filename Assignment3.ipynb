{
 "cells": [
  {
   "cell_type": "code",
   "execution_count": 3,
   "metadata": {},
   "outputs": [],
   "source": [
    "import numpy as np\n",
    "import pandas as pd\n",
    "import matplotlib.pyplot as plt\n",
    "import numpy as np\n",
    "from sklearn.datasets._samples_generator import make_blobs\n",
    "import random\n",
    "\n"
   ]
  },
  {
   "cell_type": "code",
   "execution_count": 82,
   "metadata": {},
   "outputs": [],
   "source": [
    "df = pd.read_csv('mnist-1.csv')\n",
    "df = df.iloc[:, 1:] #remove label\n",
    "\n"
   ]
  },
  {
   "cell_type": "markdown",
   "metadata": {},
   "source": [
    "# Q1\n",
    "### PCA\n",
    "\n",
    "Perform PCA on the dataset to reduce each sample into a 10-dimensional feature vector. Show the covariance matrix of the transformed data. Please also copy your code snippet here.\n"
   ]
  },
  {
   "cell_type": "code",
   "execution_count": 58,
   "metadata": {},
   "outputs": [
    {
     "name": "stdout",
     "output_type": "stream",
     "text": [
      "The input x has shape (5999, 784), and the transformed x has shape (5999, 10)\n",
      "The sum of the input covariance matrix is 1128.08743.\n",
      "The sum of the transformed covariance matrix is 5.84584.\n"
     ]
    }
   ],
   "source": [
    "class pca:\n",
    "    def __init__(self, x, n_components = None):\n",
    "        self.x = x\n",
    "        self.n_components = n_components\n",
    "        self.num_features = x.shape[0]\n",
    "        self.ori_feat = x.shape[1]\n",
    "        self.cov_mat = None\n",
    "        self.P = None\n",
    "        self.y = None\n",
    "\n",
    "    def cov(self):\n",
    "        self.cov_mat = np.cov(self.x.T)\n",
    "        return self.cov_mat\n",
    "    def standardization(self):\n",
    "        return self.x - np.mean(self.x, axis=0)\n",
    "    def reduce_feature(self):\n",
    "        x_meaned = self.standardization()\n",
    "        x_cov = self.cov()\n",
    "        eigen_val, eigen_vec = np.linalg.eig(x_cov)\n",
    "        sort_index = np.argsort(eigen_val[::-1]) #Use np.argsort()\n",
    "\n",
    "        sorted_eigenval = eigen_val[sort_index]\n",
    "        sorted_eigenvector = eigen_vec[:,sort_index]\n",
    "\n",
    "        self.P = sorted_eigenvector[:,:self.n_components]\n",
    "        self.y = np.dot(self.P.T, x_meaned.T).T\n",
    "        return self.y\n",
    "\n",
    "pca_1 = pca(df, 10)\n",
    "new_df = pca_1.reduce_feature()\n",
    "print(f'The input x has shape {df.shape}, and the transformed x has shape {new_df.shape}')\n",
    "print(f'The sum of the input covariance matrix is {round(np.sum(pca_1.cov_mat), 5)}.')\n",
    "print(f'The sum of the transformed covariance matrix is {round(np.sum(np.cov(new_df.T)).real, 5)}.')"
   ]
  },
  {
   "cell_type": "markdown",
   "metadata": {},
   "source": [
    "# Q2\n",
    "### K-Means\n",
    "\n",
    "Perform k-means clustering to cluster the dataset (without applying PCA) into 10 groups. Please copy your code snippet here."
   ]
  },
  {
   "cell_type": "code",
   "execution_count": 132,
   "metadata": {},
   "outputs": [
    {
     "name": "stdout",
     "output_type": "stream",
     "text": [
      "centroid 0: 118.63318207282931\n",
      "centroid 1: 69.72717806608733\n",
      "centroid 2: 140.1534791533942\n",
      "centroid 3: 97.0409806122226\n",
      "centroid 4: 112.71649023245675\n",
      "centroid 5: 143.7366610997712\n",
      "centroid 6: 66.66850490196087\n",
      "centroid 7: 118.41863075196426\n",
      "centroid 8: 127.30996808025546\n",
      "centroid 9: 97.19438261791223\n"
     ]
    }
   ],
   "source": [
    "def k_means(x, k = 2 , epochs = 600):\n",
    "    # 1. Randomly initialize k centroids\n",
    "    x = x.values\n",
    "    np.random.seed(2024)\n",
    "    clusters = []\n",
    "    \n",
    "    loss_history = []\n",
    "\n",
    "    # ==============================================================\n",
    "    # \"you need to randomly initialize k centroids using x\"\n",
    "    cluster_center = x[np.random.choice(x.shape[0], k, replace=False)]\n",
    "    # ==============================================================\n",
    "\n",
    "    for i in range(k):\n",
    "        clusters.append([])\n",
    "    \n",
    "    # 2. Training\n",
    "    for _ in range(epochs):\n",
    "        new_clusters_center = np.zeros((k, x.shape[1]))\n",
    "        for i in range(k):\n",
    "            clusters[i]=[]\n",
    "\n",
    "        ## a. E-step: finding points to the nearest centroid, assigning to corresponding clusters\n",
    "        ## Calculate the distance from all points to the k cluster centers\n",
    "        for i in range(x.shape[0]):\n",
    "            xi = x[i]\n",
    "\n",
    "            # ==============================================================\n",
    "            # \"Calculate the distance of xi with each centroid using norm2\"\n",
    "            distances = np.linalg.norm(xi - cluster_center, ord = 2, axis=1)\n",
    "\n",
    "            # Assign points to the closest cluster\n",
    "            # \"Find out the nearest centroid to xi\"\n",
    "            # Returns the index of the nearest centriod to this datapoint\n",
    "            c = np.argmin(distances)\n",
    "\n",
    "            # ==============================================================\n",
    "            clusters[c].append(i) # Append this datapoint to this cluster\n",
    "\n",
    "        ## b. M-step: recalculate the location of the centroid using the mean of the clusters\n",
    "        for i in range(k):\n",
    "            # ==============================================================\n",
    "            # \"You need to calculate the position of the new centroids\"\n",
    "            if len(clusters[i]) == 0:\n",
    "                new_clusters_center[i] = x[np.random.choice(x.shape[0], replace=False)]\n",
    "            else:\n",
    "                new_clusters_center[i] = np.sum(x[clusters[i]],axis=0) / len(clusters[i])\n",
    "\n",
    "            # ==============================================================\n",
    "\n",
    "        # c. If the centroid did not change, the algorithm should be stopped, otherwise continue.\n",
    "        if np.all(new_clusters_center == cluster_center):\n",
    "            return clusters, new_clusters_center, loss_history\n",
    "\n",
    "        # d. update the centroid\n",
    "        current_loss = 0\n",
    "        for i in range(k):\n",
    "            if len(clusters[i]) > 0:\n",
    "                current_loss += np.sum(np.linalg.norm(x[clusters[i]] - cluster_center[i], axis=1) ** 2)\n",
    "        loss_history.append(current_loss)\n",
    "        # ==============================================================\n",
    "        cluster_center = new_clusters_center\n",
    "\n",
    "        # ==============================================================\n",
    "    return clusters, cluster_center, loss_history\n",
    "\n",
    "\n",
    "clusters, cluster_center, loss = k_means(df, 10)\n",
    "for i, c in enumerate(cluster_center):\n",
    "    print(f'centroid {i}: {np.sum(c)}')\n",
    "\n",
    "\n",
    "\n",
    "\n"
   ]
  },
  {
   "cell_type": "markdown",
   "metadata": {},
   "source": [
    "# Q3\n",
    "### visualization"
   ]
  },
  {
   "cell_type": "code",
   "execution_count": 135,
   "metadata": {},
   "outputs": [
    {
     "data": {
      "text/plain": [
       "[<matplotlib.lines.Line2D at 0x298a1b130>]"
      ]
     },
     "execution_count": 135,
     "metadata": {},
     "output_type": "execute_result"
    },
    {
     "data": {
      "image/png": "[encoded data removed]",
      "text/plain": [
       "<Figure size 640x480 with 1 Axes>"
      ]
     },
     "metadata": {},
     "output_type": "display_data"
    }
   ],
   "source": [
    "#visualize\n",
    "plt.xlabel('number of rotation')\n",
    "plt.ylabel('loss')\n",
    "plt.title('loss curve')\n",
    "plt.plot(loss)"
   ]
  },
  {
   "cell_type": "markdown",
   "metadata": {},
   "source": [
    "# Q4\n",
    "### find optimal k"
   ]
  },
  {
   "cell_type": "code",
   "execution_count": 136,
   "metadata": {},
   "outputs": [],
   "source": [
    "def k_means(x, k = 2 , epochs = 600):\n",
    "    # 1. Randomly initialize k centroids\n",
    "    np.random.seed(2024)\n",
    "    clusters = []\n",
    "    \n",
    "    # ==============================================================\n",
    "    # \"you need to randomly initialize k centroids using x\"\n",
    "    cluster_center = x[np.random.choice(x.shape[0], k, replace=False)]\n",
    "    # ==============================================================\n",
    "\n",
    "    for i in range(k):\n",
    "        clusters.append([])\n",
    "    \n",
    "    # 2. Training\n",
    "    for _ in range(epochs):\n",
    "        new_clusters_center = np.zeros((k, x.shape[1]))\n",
    "        for i in range(k):\n",
    "            clusters[i]=[]\n",
    "\n",
    "        ## a. E-step: finding points to the nearest centroid, assigning to corresponding clusters\n",
    "        ## Calculate the distance from all points to the k cluster centers\n",
    "        for i in range(x.shape[0]):\n",
    "            xi = x[i]\n",
    "\n",
    "            # ==============================================================\n",
    "            # \"Calculate the distance of xi with each centroid using norm2\"\n",
    "            distances = np.linalg.norm(xi - cluster_center, ord = 2, axis=1)\n",
    "\n",
    "            # Assign points to the closest cluster\n",
    "            # \"Find out the nearest centroid to xi\"\n",
    "            # Returns the index of the nearest centriod to this datapoint\n",
    "            c = np.argmin(distances)\n",
    "\n",
    "            # ==============================================================\n",
    "            clusters[c].append(i) # Append this datapoint to this cluster\n",
    "\n",
    "        ## b. M-step: recalculate the location of the centroid using the mean of the clusters\n",
    "        for i in range(k):\n",
    "            # ==============================================================\n",
    "            # \"You need to calculate the position of the new centroids\"\n",
    "            if len(clusters[i]) == 0:\n",
    "                new_clusters_center[i] = x[np.random.choice(x.shape[0], replace=False)]\n",
    "            else:\n",
    "                new_clusters_center[i] = np.sum(x[clusters[i]],axis=0) / len(clusters[i])\n",
    "\n",
    "            # ==============================================================\n",
    "\n",
    "        # c. If the centroid did not change, the algorithm should be stopped, otherwise continue.\n",
    "        if np.all(new_clusters_center == cluster_center):\n",
    "\n",
    "            return clusters, new_clusters_center\n",
    "\n",
    "        # d. update the centroid\n",
    "\n",
    "        # ==============================================================\n",
    "        cluster_center = new_clusters_center\n",
    "\n",
    "        # ==============================================================\n",
    "    return clusters, cluster_center\n",
    "\n",
    "def find_best_k (training_set, validation_set):\n",
    "    result_lose_arr = []\n",
    "    result = 9999999999999999\n",
    "    result_index = 0\n",
    "\n",
    "    for k in range(2, 50):\n",
    "        clusters, cluster_center = k_means(training_set, k)#use training set to train\n",
    "        \n",
    "        validation_cluster = []#build validation cluster\n",
    "        for i in range(k):\n",
    "            validation_cluster.append([])\n",
    "        # =====use validation set to test========\n",
    "        for i in range(validation_set.shape[0]):\n",
    "            xi = validation_set[i]\n",
    "\n",
    "            # ==============================================================\n",
    "            # \"Calculate the distance of xi with each centroid using norm2\"\n",
    "            distances = np.linalg.norm(xi - cluster_center, ord = 2, axis=1)\n",
    "\n",
    "            # Assign points to the closest cluster\n",
    "            # \"Find out the nearest centroid to xi\"\n",
    "            # Returns the index of the nearest centriod to this datapoint\n",
    "            c = np.argmin(distances)\n",
    "\n",
    "            # ==============================================================\n",
    "            validation_cluster[c].append(i) # Append this datapoint to this cluster\n",
    "\n",
    "    # =======================================\n",
    "    #build the loss array\n",
    "        validation_loss = 0\n",
    "        for i in range(k):\n",
    "            if len(validation_cluster[i]) > 0:\n",
    "                validation_loss += np.sum(np.linalg.norm(validation_set[validation_cluster[i]] - cluster_center[i], axis=1) ** 2)\n",
    "        result_lose_arr.append(validation_loss)\n",
    "\n",
    "    for i in range(len(result_lose_arr)):\n",
    "        if result_lose_arr[i] < result:\n",
    "            result = result_lose_arr[i]\n",
    "            result_index = i\n",
    "\n",
    "\n",
    "    return result_lose_arr, result, result_index\n",
    "\n",
    "#split the dataset\n",
    "train = df.iloc[:4000].values\n",
    "val = df.iloc[4000:].values\n",
    "result_lose_arr, result, result_index = find_best_k (train, val)\n",
    "\n"
   ]
  },
  {
   "cell_type": "code",
   "execution_count": 138,
   "metadata": {},
   "outputs": [
    {
     "data": {
      "text/plain": [
       "[<matplotlib.lines.Line2D at 0x298c1ddc0>]"
      ]
     },
     "execution_count": 138,
     "metadata": {},
     "output_type": "execute_result"
    },
    {
     "data": {
      "image/png": "[encoded data removed]",
      "text/plain": [
       "<Figure size 640x480 with 1 Axes>"
      ]
     },
     "metadata": {},
     "output_type": "display_data"
    }
   ],
   "source": [
    "#visualize\n",
    "plt.xlabel('k value')\n",
    "plt.ylabel('change of loss')\n",
    "plt.title('elbow method')\n",
    "plt.plot(result_lose_arr)"
   ]
  },
  {
   "cell_type": "markdown",
   "metadata": {},
   "source": [
    "#### Use the Elbow method we can see an apperant elbow plot is at k = 25.\n",
    "\n",
    "#### Therefore, we can claim that the optimal k is k = 25."
   ]
  },
  {
   "cell_type": "markdown",
   "metadata": {},
   "source": [
    "# Q5\n",
    "### kernel k-means algorithm with RBF-kernel\n",
    "\n",
    "Please only use the first 500 samples and cluster the them into 5 groups. This is for reducing the running time of your code. \n",
    "\n",
    "Please copy your code snippet here.\n",
    "\n",
    "TIPS: If you can use matrix operations to replace summations, your code will be more efficient. However, this is just optional."
   ]
  },
  {
   "cell_type": "code",
   "execution_count": 69,
   "metadata": {},
   "outputs": [
    {
     "name": "stdout",
     "output_type": "stream",
     "text": [
      "centroid 0: 285.9141928207985\n",
      "centroid 1: 321.935780798391\n",
      "centroid 2: 326.1115875087804\n",
      "centroid 3: 254.26134691094742\n",
      "centroid 4: 308.3488201843429\n"
     ]
    }
   ],
   "source": [
    "def k_means(x, k = 2 , epochs = 600):\n",
    "    # 1. Randomly initialize k centroids\n",
    "    np.random.seed(2024)\n",
    "    clusters = []\n",
    "    \n",
    "    loss_history = []\n",
    "\n",
    "    # ==============================================================\n",
    "    # \"you need to randomly initialize k centroids using x\"\n",
    "    cluster_center = x[np.random.choice(x.shape[0], k, replace=False)]\n",
    "    # ==============================================================\n",
    "\n",
    "    for i in range(k):\n",
    "        clusters.append([])\n",
    "    \n",
    "    # 2. Training\n",
    "    for _ in range(epochs):\n",
    "        new_clusters_center = np.zeros((k, x.shape[1]))\n",
    "        for i in range(k):\n",
    "            clusters[i]=[]\n",
    "\n",
    "        ## a. E-step: finding points to the nearest centroid, assigning to corresponding clusters\n",
    "        ## Calculate the distance from all points to the k cluster centers\n",
    "        for i in range(x.shape[0]):\n",
    "            xi = x[i]\n",
    "\n",
    "            # ==============================================================\n",
    "            # \"Calculate the distance of xi with each centroid using norm2\"\n",
    "            distances = np.linalg.norm(xi - cluster_center, ord = 2, axis=1)\n",
    "\n",
    "            # Assign points to the closest cluster\n",
    "            # \"Find out the nearest centroid to xi\"\n",
    "            # Returns the index of the nearest centriod to this datapoint\n",
    "            c = np.argmin(distances)\n",
    "\n",
    "            # ==============================================================\n",
    "            clusters[c].append(i) # Append this datapoint to this cluster\n",
    "\n",
    "        ## b. M-step: recalculate the location of the centroid using the mean of the clusters\n",
    "        for i in range(k):\n",
    "            # ==============================================================\n",
    "            # \"You need to calculate the position of the new centroids\"\n",
    "            if len(clusters[i]) == 0:\n",
    "                new_clusters_center[i] = x[np.random.choice(x.shape[0], replace=False)]\n",
    "            else:\n",
    "                new_clusters_center[i] = np.sum(x[clusters[i]],axis=0) / len(clusters[i])\n",
    "\n",
    "            # ==============================================================\n",
    "\n",
    "        # c. If the centroid did not change, the algorithm should be stopped, otherwise continue.\n",
    "        if np.all(new_clusters_center == cluster_center):\n",
    "            return clusters, new_clusters_center, loss_history\n",
    "\n",
    "        # d. update the centroid\n",
    "        current_loss = 0\n",
    "        for i in range(k):\n",
    "            if len(clusters[i]) > 0:\n",
    "                current_loss += np.sum((x[clusters[i]] - cluster_center[i])**2)\n",
    "        loss_history.append(current_loss)\n",
    "        # ==============================================================\n",
    "        cluster_center = new_clusters_center\n",
    "\n",
    "        # ==============================================================\n",
    "    return clusters, cluster_center, loss_history\n",
    "\n",
    "\n",
    "def cal_RBF(x):\n",
    "    ## implement RBF method\n",
    "    n = x.shape[0]\n",
    "    # ==============================================================\n",
    "    # \"You need to initialize k\"\n",
    "    kernel_x = np.zeros((n,n))\n",
    "\n",
    "    # ==============================================================\n",
    "    sigma = 0\n",
    "\n",
    "    for i in range(n):\n",
    "        for j in range(n):\n",
    "            # ==============================================================\n",
    "            # \"You need to implement sigma here\"\n",
    "            sigma += np.linalg.norm(x[i] - x[j]) ** 2\n",
    "\n",
    "            # ==============================================================\n",
    "    sigma = 2 * sigma/(n**2)\n",
    "    # gamma = 1/(2*sigma)\n",
    "\n",
    "    for i in range(n):\n",
    "        for j in range(n):\n",
    "            # ==============================================================\n",
    "            # \"You need to implement kernel x here\"\n",
    "            kernel_x[i, j] = np.exp(-(np.linalg.norm(x[i]-x[j]))**2/sigma)\n",
    "            #kernel_x[i, j] = np.exp(-gamma * np.linalg.norm(x[i]-x[j]))**2)\n",
    "\n",
    "            # ==============================================================\n",
    "    #kernel_x = k\n",
    "    return kernel_x\n",
    "\n",
    "kernel_x = cal_RBF(df[:500].values)\n",
    "clusters, cluster_center, loss = k_means(kernel_x, 5)\n",
    "\n",
    "for i, c in enumerate(cluster_center):\n",
    "    print(f'centroid {i}: {np.sum(c)}')\n"
   ]
  }
 ],
 "metadata": {
  "kernelspec": {
   "display_name": "Python 3",
   "language": "python",
   "name": "python3"
  },
  "language_info": {
   "codemirror_mode": {
    "name": "ipython",
    "version": 3
   },
   "file_extension": ".py",
   "mimetype": "text/x-python",
   "name": "python",
   "nbconvert_exporter": "python",
   "pygments_lexer": "ipython3",
   "version": "3.9.6"
  }
 },
 "nbformat": 4,
 "nbformat_minor": 2
}
