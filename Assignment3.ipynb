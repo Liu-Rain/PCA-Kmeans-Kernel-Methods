{
 "cells": [
  {
   "cell_type": "code",
   "execution_count": 44,
   "metadata": {},
   "outputs": [],
   "source": [
    "import numpy as np\n",
    "import pandas as pd\n",
    "import matplotlib.pyplot as plt\n",
    "import numpy as np\n",
    "from sklearn.datasets._samples_generator import make_blobs\n",
    "import random\n",
    "\n"
   ]
  },
  {
   "cell_type": "code",
   "execution_count": 2,
   "metadata": {},
   "outputs": [],
   "source": [
    "df = pd.read_csv('mnist-1.csv')\n",
    "\n"
   ]
  },
  {
   "cell_type": "markdown",
   "metadata": {},
   "source": [
    "# PCA\n",
    "\n",
    "Perform PCA on the dataset to reduce each sample into a 10-dimensional feature vector. Show the covariance matrix of the transformed data. Please also copy your code snippet here.\n"
   ]
  },
  {
   "cell_type": "code",
   "execution_count": 8,
   "metadata": {},
   "outputs": [
    {
     "name": "stdout",
     "output_type": "stream",
     "text": [
      "The input x has shape (5999, 785), and the transformed x has shape (5999, 10)\n",
      "The sum of the input covariance matrix is 1127.46503.\n",
      "The sum of the transformed covariance matrix is 10.66681.\n"
     ]
    }
   ],
   "source": [
    "class pca:\n",
    "    def __init__(self, x, n_components = None):\n",
    "        self.x = x\n",
    "        self.n_components = n_components\n",
    "        self.num_features = x.shape[0]\n",
    "        self.ori_feat = x.shape[1]\n",
    "        self.cov_mat = None\n",
    "        self.P = None\n",
    "        self.y = None\n",
    "\n",
    "    def cov(self):\n",
    "        self.cov_mat = np.cov(self.x.T)\n",
    "        return self.cov_mat\n",
    "    def standardization(self):\n",
    "        return self.x - np.mean(self.x, axis=0)\n",
    "    def reduce_feature(self):\n",
    "        x_meaned = self.standardization()\n",
    "        x_cov = self.cov()\n",
    "        eigen_val, eigen_vec = np.linalg.eig(x_cov)\n",
    "        sort_index = np.argsort(eigen_val[::-1]) #Use np.argsort()\n",
    "\n",
    "        sorted_eigenval = eigen_val[sort_index]\n",
    "        sorted_eigenvector = eigen_vec[:,sort_index]\n",
    "\n",
    "        self.P = sorted_eigenvector[:,:self.n_components]\n",
    "        self.y = np.dot(self.P.T, x_meaned.T).T\n",
    "        return self.y\n",
    "\n",
    "pca_1 = pca(df, 10)\n",
    "new_df = pca_1.reduce_feature()\n",
    "print(f'The input x has shape {df.shape}, and the transformed x has shape {new_df.shape}')\n",
    "print(f'The sum of the input covariance matrix is {round(np.sum(pca_1.cov_mat), 5)}.')\n",
    "print(f'The sum of the transformed covariance matrix is {round(np.sum(np.cov(new_df.T)).real, 5)}.')"
   ]
  },
  {
   "cell_type": "markdown",
   "metadata": {},
   "source": [
    "# K-Means\n",
    "\n",
    "Perform k-means clustering to cluster the dataset (without applying PCA) into 10 groups. Please copy your code snippet here."
   ]
  },
  {
   "cell_type": "code",
   "execution_count": 55,
   "metadata": {},
   "outputs": [],
   "source": [
    "def k_means(x, k = 2 , epochs = 600):\n",
    "    # 1. Randomly initialize k centroids\n",
    "    x = x.values\n",
    "    np.random.seed(2024)\n",
    "    clusters = []\n",
    "\n",
    "    # ==============================================================\n",
    "    # \"you need to randomly initialize k centroids using x\"\n",
    "    cluster_center = x[np.random.choice(x.shape[0], k, replace=False)]\n",
    "    # ==============================================================\n",
    "\n",
    "    for i in range(k):\n",
    "        clusters.append([])\n",
    "    \n",
    "    # 2. Training\n",
    "    for _ in range(epochs):\n",
    "        new_clusters_center = np.zeros((k, x.shape[1]))\n",
    "        for i in range(k):\n",
    "            clusters[i]=[]\n",
    "\n",
    "        ## a. E-step: finding points to the nearest centroid, assigning to corresponding clusters\n",
    "        ## Calculate the distance from all points to the k cluster centers\n",
    "        for i in range(x.shape[0]):\n",
    "            xi = x[i]\n",
    "\n",
    "            # ==============================================================\n",
    "            # \"Calculate the distance of xi with each centroid using norm2\"\n",
    "            distances = np.linalg.norm(xi - cluster_center, ord = 2, axis=1)\n",
    "\n",
    "            # Assign points to the closest cluster\n",
    "            # \"Find out the nearest centroid to xi\"\n",
    "            # Returns the index of the nearest centriod to this datapoint\n",
    "            c = np.argmin(distances)\n",
    "\n",
    "            # ==============================================================\n",
    "            clusters[c].append(i) # Append this datapoint to this cluster\n",
    "\n",
    "        ## b. M-step: recalculate the location of the centroid using the mean of the clusters\n",
    "        for i in range(k):\n",
    "            # ==============================================================\n",
    "            # \"You need to calculate the position of the new centroids\"\n",
    "            if len(clusters[i]) > 0:\n",
    "                new_clusters_center[i] = np.mean(x[clusters[i]], axis=0)\n",
    "\n",
    "            # ==============================================================\n",
    "\n",
    "        # c. If the centroid did not change, the algorithm should be stopped, otherwise continue.\n",
    "        if np.all(new_clusters_center == cluster_center):\n",
    "            return clusters, new_clusters_center\n",
    "\n",
    "        # d. update the centroid\n",
    "        loss.append(abs(np.sum(new_clusters_center - cluster_center)))\n",
    "        # ==============================================================\n",
    "        cluster_center = new_clusters_center\n",
    "\n",
    "        # ==============================================================\n",
    "    return clusters, cluster_center\n",
    "\n",
    "\n",
    "loss = []\n",
    "clusters, cluster_center = k_means(df, 10)\n",
    "\n"
   ]
  },
  {
   "cell_type": "markdown",
   "metadata": {},
   "source": [
    "# visualization"
   ]
  },
  {
   "cell_type": "code",
   "execution_count": 56,
   "metadata": {},
   "outputs": [
    {
     "data": {
      "text/plain": [
       "[<matplotlib.lines.Line2D at 0x2ad8aa880>]"
      ]
     },
     "execution_count": 56,
     "metadata": {},
     "output_type": "execute_result"
    },
    {
     "data": {
      "image/png": "[encoded data removed]",
      "text/plain": [
       "<Figure size 640x480 with 1 Axes>"
      ]
     },
     "metadata": {},
     "output_type": "display_data"
    }
   ],
   "source": [
    "def plot(x, k, clusters:list, loss=[]):\n",
    "    f1 = plt.figure()\n",
    "    ax1 = f1.add_subplot(111)\n",
    "\n",
    "    for i in range(k):\n",
    "        ax1.scatter(x[clusters[i],0],x[clusters[i],1])\n",
    "\n",
    "    if loss:\n",
    "        f2 = plt.figure()\n",
    "        ax2 = f2.add_subplot(111)\n",
    "        ax2.plot([i for i in range(len(loss))], loss)\n",
    "        ax2.set_title('Epochs vs Loss')\n",
    "        ax2.set_xlabel('Epochs')\n",
    "        ax2.set_ylabel('Loss')\n",
    "    plt.show()\n",
    "\n",
    "plt.plot(loss)"
   ]
  },
  {
   "cell_type": "markdown",
   "metadata": {},
   "source": [
    "# find optimal k"
   ]
  },
  {
   "cell_type": "code",
   "execution_count": 60,
   "metadata": {},
   "outputs": [
    {
     "data": {
      "text/plain": [
       "[<matplotlib.lines.Line2D at 0x2ad6bb370>]"
      ]
     },
     "execution_count": 60,
     "metadata": {},
     "output_type": "execute_result"
    },
    {
     "data": {
      "image/png": "[encoded data removed]",
      "text/plain": [
       "<Figure size 640x480 with 1 Axes>"
      ]
     },
     "metadata": {},
     "output_type": "display_data"
    }
   ],
   "source": [
    "def k_means(x, k = 2 , epochs = 600):\n",
    "    # 1. Randomly initialize k centroids\n",
    "    x = x.values\n",
    "    np.random.seed(2024)\n",
    "    clusters = []\n",
    "    result = 0\n",
    "    # ==============================================================\n",
    "    # \"you need to randomly initialize k centroids using x\"\n",
    "    cluster_center = x[np.random.choice(x.shape[0], k, replace=False)]\n",
    "    # ==============================================================\n",
    "\n",
    "    for i in range(k):\n",
    "        clusters.append([])\n",
    "    \n",
    "    # 2. Training\n",
    "    for _ in range(epochs):\n",
    "        new_clusters_center = np.zeros((k, x.shape[1]))\n",
    "        for i in range(k):\n",
    "            clusters[i]=[]\n",
    "\n",
    "        ## a. E-step: finding points to the nearest centroid, assigning to corresponding clusters\n",
    "        ## Calculate the distance from all points to the k cluster centers\n",
    "        for i in range(x.shape[0]):\n",
    "            xi = x[i]\n",
    "\n",
    "            # ==============================================================\n",
    "            # \"Calculate the distance of xi with each centroid using norm2\"\n",
    "            distances = np.linalg.norm(xi - cluster_center, ord = 2, axis=1)\n",
    "\n",
    "            # Assign points to the closest cluster\n",
    "            # \"Find out the nearest centroid to xi\"\n",
    "            # Returns the index of the nearest centriod to this datapoint\n",
    "            c = np.argmin(distances)\n",
    "\n",
    "            # ==============================================================\n",
    "            clusters[c].append(i) # Append this datapoint to this cluster\n",
    "\n",
    "        ## b. M-step: recalculate the location of the centroid using the mean of the clusters\n",
    "        for i in range(k):\n",
    "            # ==============================================================\n",
    "            # \"You need to calculate the position of the new centroids\"\n",
    "            if len(clusters[i]) > 0:\n",
    "                new_clusters_center[i] = np.mean(x[clusters[i]], axis=0)\n",
    "\n",
    "            # ==============================================================\n",
    "\n",
    "        # c. If the centroid did not change, the algorithm should be stopped, otherwise continue.\n",
    "        if np.all(new_clusters_center == cluster_center):\n",
    "            for i in range(k):\n",
    "\n",
    "                cluster_points = x[clusters[i]]  # Get all points in cluster `i`\n",
    "                centroid = cluster_center[i]     # Get the centroid of cluster `i`\n",
    "                total_distance = np.sum(np.linalg.norm(cluster_points - centroid, ord = 2, axis=1))\n",
    "                result += total_distance\n",
    "\n",
    "            return clusters, new_clusters_center, result\n",
    "\n",
    "        # d. update the centroid\n",
    "        loss.append(abs(np.sum(new_clusters_center - cluster_center)))\n",
    "        # ==============================================================\n",
    "        cluster_center = new_clusters_center\n",
    "\n",
    "        # ==============================================================\n",
    "    return clusters, cluster_center, result\n",
    "\n",
    "\n",
    "loss = []\n",
    "result_arr = []\n",
    "for k in range(2,20):\n",
    "    clusters, cluster_center, result = k_means(df, k)\n",
    "    result_arr.append(result)\n",
    "\n",
    "plt.plot(result_arr)"
   ]
  }
 ],
 "metadata": {
  "kernelspec": {
   "display_name": "Python 3",
   "language": "python",
   "name": "python3"
  },
  "language_info": {
   "codemirror_mode": {
    "name": "ipython",
    "version": 3
   },
   "file_extension": ".py",
   "mimetype": "text/x-python",
   "name": "python",
   "nbconvert_exporter": "python",
   "pygments_lexer": "ipython3",
   "version": "3.9.6"
  }
 },
 "nbformat": 4,
 "nbformat_minor": 2
}
